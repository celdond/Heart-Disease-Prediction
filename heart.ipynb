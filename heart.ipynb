{
 "cells": [
  {
   "cell_type": "code",
   "execution_count": null,
   "metadata": {},
   "outputs": [],
   "source": [
    "import numpy as np\n",
    "import pandas as pd\n",
    "import matplotlib.pyplot as plt\n",
    "import seaborn as sns\n",
    "\n",
    "from sklearn.metrics import accuracy_score, precision_score, recall_score\n",
    "from sklearn.model_selection import train_test_split\n",
    "from tensorflow.keras import layers, losses\n",
    "from tensorflow.keras.models import Model"
   ]
  },
  {
   "cell_type": "code",
   "execution_count": null,
   "metadata": {},
   "outputs": [],
   "source": [
    "data = pd.read_csv('data/heart.csv')\n",
    "\n",
    "data.info()"
   ]
  },
  {
   "cell_type": "code",
   "execution_count": null,
   "metadata": {},
   "outputs": [],
   "source": [
    "data.dropna(inplace = True)"
   ]
  },
  {
   "cell_type": "code",
   "execution_count": null,
   "metadata": {},
   "outputs": [],
   "source": [
    "def outlier(table, column: str):\n",
    "    column_z = column + 'Z'\n",
    "    table[column_z] = (table[column] - table[column].mean()) / table[column].std()\n",
    "\n",
    "    index = data[ data[column_z] > 4].index\n",
    "    data.drop(index, inplace = True)\n",
    "    index = data[ data[column_z] < -4].index\n",
    "    data.drop(index, inplace = True)\n",
    "\n",
    "    data.drop(columns = column_z, inplace = True)\n",
    "    return"
   ]
  },
  {
   "cell_type": "code",
   "execution_count": null,
   "metadata": {},
   "outputs": [],
   "source": [
    "outlier(data, 'Age')\n",
    "outlier(data, 'Oldpeak')\n",
    "outlier(data, 'MaxHR')\n",
    "outlier(data, 'RestBP')\n",
    "outlier(data, 'Chol')\n",
    "data.head()"
   ]
  },
  {
   "cell_type": "code",
   "execution_count": null,
   "metadata": {},
   "outputs": [],
   "source": [
    "plt.rcParams['figure.figsize'] = (15, 15)\n",
    "sns.pairplot(data.drop(columns='Unnamed: 0'))"
   ]
  },
  {
   "cell_type": "code",
   "execution_count": null,
   "metadata": {},
   "outputs": [],
   "source": [
    "data['Age'] = (data['Age'] - data['Age'].min()) / (data['Age'].max() - data['Age'].min())\n",
    "data['RestBP'] = (data['RestBP'] - data['RestBP'].min()) / (data['RestBP'].max() - data['RestBP'].min())\n",
    "data['Chol'] = (data['Chol'] - data['Chol'].min()) / (data['Chol'].max() - data['Chol'].min())\n",
    "data['MaxHR'] = (data['MaxHR'] - data['MaxHR'].min()) / (data['MaxHR'].max() - data['MaxHR'].min())\n",
    "\n",
    "data.describe()"
   ]
  },
  {
   "cell_type": "code",
   "execution_count": null,
   "metadata": {},
   "outputs": [],
   "source": [
    "AHD_dict = {AHD:i for i,AHD in enumerate(data['AHD'].unique())}\n",
    "\n",
    "def encode_ahd(AHD):\n",
    "  return AHD_dict[AHD]\n",
    "\n",
    "data['AHD'] = data['AHD'].apply(encode_ahd)"
   ]
  },
  {
   "cell_type": "code",
   "execution_count": null,
   "metadata": {},
   "outputs": [],
   "source": [
    "Thal_dict = {Thal:i for i,Thal in enumerate(data['Thal'].unique())}\n",
    "\n",
    "def encode_Thal(Thal):\n",
    "  return Thal_dict[Thal]\n",
    "\n",
    "data['Thal'] = data['Thal'].apply(encode_Thal)\n",
    "data = pd.concat([data, pd.get_dummies(data['Thal'], prefix = 'Thal')], axis = 1)\n",
    "data.drop('Thal', axis = 1, inplace = True)\n",
    "\n",
    "data.head()"
   ]
  },
  {
   "cell_type": "code",
   "execution_count": null,
   "metadata": {},
   "outputs": [],
   "source": [
    "Pain_dict = {ChestPain:i for i,ChestPain in enumerate(data['ChestPain'].unique())}\n",
    "\n",
    "def encode_ChestPain(ChestPain):\n",
    "  return Pain_dict[ChestPain]\n",
    "\n",
    "data['ChestPain'] = data['ChestPain'].apply(encode_ChestPain)\n",
    "data = pd.concat([data, pd.get_dummies(data['ChestPain'], prefix = 'ChestPain')], axis = 1)\n",
    "\n",
    "data.drop('ChestPain', axis = 1, inplace = True)\n",
    "\n",
    "data.head()"
   ]
  },
  {
   "cell_type": "code",
   "execution_count": null,
   "metadata": {},
   "outputs": [],
   "source": [
    "data.shape"
   ]
  },
  {
   "cell_type": "code",
   "execution_count": null,
   "metadata": {},
   "outputs": [],
   "source": [
    "input_layer = Input(shape=(1024))\n",
    "x = Dense(100, activation='relu')(input_layer)\n",
    "x = Dense(1, activation='sigmoid')(x)\n",
    "model = Model(input_layer, x)"
   ]
  }
 ],
 "metadata": {
  "kernelspec": {
   "display_name": ".venv",
   "language": "python",
   "name": "python3"
  },
  "language_info": {
   "codemirror_mode": {
    "name": "ipython",
    "version": 3
   },
   "file_extension": ".py",
   "mimetype": "text/x-python",
   "name": "python",
   "nbconvert_exporter": "python",
   "pygments_lexer": "ipython3",
   "version": "3.10.7"
  },
  "orig_nbformat": 4
 },
 "nbformat": 4,
 "nbformat_minor": 2
}
